{
 "cells": [
  {
   "cell_type": "code",
   "execution_count": 24,
   "metadata": {},
   "outputs": [],
   "source": [
    "import re, random, torch, pickle, gc, os, sklearn\n",
    "import optuna\n",
    "import lightgbm as lgb\n",
    "import polars as pl\n",
    "import pandas as pd\n",
    "import numpy as np\n",
    "from pathlib import Path\n",
    "from lightgbm import LGBMRegressor\n",
    "from catboost import CatBoostRegressor\n",
    "## Sklearn package\n",
    "from sklearn.linear_model import Lasso, Ridge\n",
    "from sklearn.ensemble import RandomForestRegressor \n",
    "from sklearn.preprocessing import RobustScaler, FunctionTransformer\n",
    "from sklearn.pipeline import Pipeline\n",
    "from sklearn.impute import SimpleImputer\n",
    "from sklearn.ensemble import VotingRegressor\n",
    "from sklearn.svm import SVR\n",
    "from sklearn.model_selection import StratifiedKFold, train_test_split\n",
    "from sklearn.metrics import mean_squared_error \n",
    "from scipy.stats import skew, kurtosis\n",
    "import ctypes\n",
    "import math\n",
    "import warnings\n",
    "warnings.filterwarnings(\"ignore\")\n",
    "pd.options.display.max_rows = 999\n",
    "pd.options.display.max_colwidth = 99"
   ]
  },
  {
   "cell_type": "code",
   "execution_count": 2,
   "metadata": {},
   "outputs": [],
   "source": [
    "INPUT_DIR = './'\n",
    "logs = pl.scan_csv(f'{INPUT_DIR}/train_logs.csv')"
   ]
  },
  {
   "cell_type": "code",
   "execution_count": 3,
   "metadata": {},
   "outputs": [
    {
     "data": {
      "text/html": [
       "<i>naive plan: (run <b>LazyFrame.explain(optimized=True)</b> to see the optimized plan)</i>\n",
       "    <p></p>\n",
       "    <div>SLICE[offset: 0, len: 5]<p></p><p></p>    Csv SCAN .//train_logs.csv<p></p>    PROJECT */11 COLUMNS</div>"
      ],
      "text/plain": [
       "<LazyFrame [11 cols, {\"id\": Utf8 … \"word_count\": Int64}] at 0x1EDF77B6EB0>"
      ]
     },
     "execution_count": 3,
     "metadata": {},
     "output_type": "execute_result"
    }
   ],
   "source": [
    "logs.head()"
   ]
  },
  {
   "cell_type": "code",
   "execution_count": 22,
   "metadata": {},
   "outputs": [],
   "source": [
    "def tfidf_by_values(colname, used_cols):\n",
    "    fts = logs.select(pl.col('id').unique(maintain_order=True))\n",
    "    total_rows =fts.collect().shape[0]\n",
    "    \n",
    "    for i, col in enumerate(used_cols):\n",
    "        # 计算每个值出现的次数\n",
    "        tmp_logs =logs.group_by('id').agg(\n",
    "            pl.col(colname).is_in([col]).sum().alias(f'{colname}_{i}_cnt')\n",
    "        )\n",
    "        fts = fts.join(tmp_logs, on='id', how='left')\n",
    "        \n",
    "        # 计算 IDF\n",
    "        \n",
    "        \n",
    "        idf = total_rows / (logs.filter(pl.col(colname) == col).collect().shape[0] + 1)\n",
    "        idf=math.log(idf)\n",
    "        idf = pl.lit(idf)\n",
    "\n",
    "        # 计算 TF-IDF 并更新 LazyFrame\n",
    "        cnts = fts[f'{colname}_{i}_cnt']\n",
    "        tfidf_col = ((1 + pl.lit(logs[colname]).ln() / cnts) * idf).alias(f'{colname}_{i}_tfidf')\n",
    "        fts = fts.join(tfidf_col, on='id', how='left')\n",
    "\n",
    "    return fts"
   ]
  },
  {
   "cell_type": "code",
   "execution_count": 23,
   "metadata": {},
   "outputs": [
    {
     "ename": "AttributeError",
     "evalue": "'Expr' object has no attribute 'ln'",
     "output_type": "error",
     "traceback": [
      "\u001b[1;31m---------------------------------------------------------------------------\u001b[0m",
      "\u001b[1;31mAttributeError\u001b[0m                            Traceback (most recent call last)",
      "Cell \u001b[1;32mIn[23], line 4\u001b[0m\n\u001b[0;32m      1\u001b[0m activities \u001b[38;5;241m=\u001b[39m [\u001b[38;5;124m'\u001b[39m\u001b[38;5;124mInput\u001b[39m\u001b[38;5;124m'\u001b[39m, \u001b[38;5;124m'\u001b[39m\u001b[38;5;124mRemove/Cut\u001b[39m\u001b[38;5;124m'\u001b[39m, \u001b[38;5;124m'\u001b[39m\u001b[38;5;124mNonproduction\u001b[39m\u001b[38;5;124m'\u001b[39m, \u001b[38;5;124m'\u001b[39m\u001b[38;5;124mReplace\u001b[39m\u001b[38;5;124m'\u001b[39m, \u001b[38;5;124m'\u001b[39m\u001b[38;5;124mPaste\u001b[39m\u001b[38;5;124m'\u001b[39m]\n\u001b[0;32m      3\u001b[0m \u001b[38;5;66;03m#=== Create the feature columns using count by values ===\u001b[39;00m\n\u001b[1;32m----> 4\u001b[0m df \u001b[38;5;241m=\u001b[39m\u001b[43mtfidf_by_values\u001b[49m\u001b[43m(\u001b[49m\u001b[38;5;124;43m'\u001b[39;49m\u001b[38;5;124;43mactivity\u001b[39;49m\u001b[38;5;124;43m'\u001b[39;49m\u001b[43m,\u001b[49m\u001b[43m \u001b[49m\u001b[43mactivities\u001b[49m\u001b[43m)\u001b[49m \u001b[38;5;66;03m# Create 'activity' column\u001b[39;00m\n",
      "Cell \u001b[1;32mIn[22], line 16\u001b[0m, in \u001b[0;36mtfidf_by_values\u001b[1;34m(colname, used_cols)\u001b[0m\n\u001b[0;32m     12\u001b[0m \u001b[38;5;66;03m# 计算 IDF\u001b[39;00m\n\u001b[0;32m     15\u001b[0m idf \u001b[38;5;241m=\u001b[39m total_rows \u001b[38;5;241m/\u001b[39m (logs\u001b[38;5;241m.\u001b[39mfilter(pl\u001b[38;5;241m.\u001b[39mcol(colname) \u001b[38;5;241m==\u001b[39m col)\u001b[38;5;241m.\u001b[39mcollect()\u001b[38;5;241m.\u001b[39mshape[\u001b[38;5;241m0\u001b[39m] \u001b[38;5;241m+\u001b[39m \u001b[38;5;241m1\u001b[39m)\n\u001b[1;32m---> 16\u001b[0m idf \u001b[38;5;241m=\u001b[39m \u001b[43mpl\u001b[49m\u001b[38;5;241;43m.\u001b[39;49m\u001b[43mlit\u001b[49m\u001b[43m(\u001b[49m\u001b[43midf\u001b[49m\u001b[43m)\u001b[49m\u001b[38;5;241;43m.\u001b[39;49m\u001b[43mln\u001b[49m()\n\u001b[0;32m     18\u001b[0m \u001b[38;5;66;03m# 计算 TF-IDF 并更新 LazyFrame\u001b[39;00m\n\u001b[0;32m     19\u001b[0m cnts \u001b[38;5;241m=\u001b[39m fts[\u001b[38;5;124mf\u001b[39m\u001b[38;5;124m'\u001b[39m\u001b[38;5;132;01m{\u001b[39;00mcolname\u001b[38;5;132;01m}\u001b[39;00m\u001b[38;5;124m_\u001b[39m\u001b[38;5;132;01m{\u001b[39;00mi\u001b[38;5;132;01m}\u001b[39;00m\u001b[38;5;124m_cnt\u001b[39m\u001b[38;5;124m'\u001b[39m]\n",
      "\u001b[1;31mAttributeError\u001b[0m: 'Expr' object has no attribute 'ln'"
     ]
    }
   ],
   "source": [
    "activities = ['Input', 'Remove/Cut', 'Nonproduction', 'Replace', 'Paste']\n",
    "     \n",
    "#=== Create the feature columns using count by values ===\n",
    "df =tfidf_by_values('activity', activities) # Create 'activity' column\n"
   ]
  },
  {
   "cell_type": "code",
   "execution_count": null,
   "metadata": {},
   "outputs": [],
   "source": [
    "# 每一个product过程中每分钟按下的event\n",
    "    def create_keys_pressed_feats(self):\n",
    "        logs = self.logs.copy()\n",
    "        temp_df = logs[logs['activity'].isin(['Input', 'Remove/Cut'])].groupby(['id']).agg(keys_pressed=('event_id', 'count')).reset_index()\n",
    "        temp_df_2 = logs.groupby(['id']).agg(min_down_time=('down_time', 'min'), max_up_time=('up_time', 'max')).reset_index()\n",
    "        temp_df = temp_df.merge(temp_df_2, on='id', how='left')\n",
    "        temp_df['keys_per_second'] = temp_df['keys_pressed'] / ((temp_df['max_up_time'] - temp_df['min_down_time']) / 1000)\n",
    "        return temp_df[['id', 'keys_per_second']]"
   ]
  }
 ],
 "metadata": {
  "kernelspec": {
   "display_name": "Python 3",
   "language": "python",
   "name": "python3"
  },
  "language_info": {
   "codemirror_mode": {
    "name": "ipython",
    "version": 3
   },
   "file_extension": ".py",
   "mimetype": "text/x-python",
   "name": "python",
   "nbconvert_exporter": "python",
   "pygments_lexer": "ipython3",
   "version": "3.8.2"
  }
 },
 "nbformat": 4,
 "nbformat_minor": 2
}

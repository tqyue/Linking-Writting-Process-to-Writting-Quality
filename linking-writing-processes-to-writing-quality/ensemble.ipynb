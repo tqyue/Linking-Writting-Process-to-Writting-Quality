{
 "cells": [
  {
   "cell_type": "markdown",
   "metadata": {},
   "source": [
    "stack模型集成"
   ]
  },
  {
   "cell_type": "code",
   "execution_count": null,
   "metadata": {},
   "outputs": [],
   "source": [
    "import numpy as np"
   ]
  },
  {
   "cell_type": "markdown",
   "metadata": {},
   "source": [
    "我们需要输入三个模形的OOF验证集，以及预测集，还有训练集的真实target，最后就可以得到结果"
   ]
  },
  {
   "cell_type": "code",
   "execution_count": null,
   "metadata": {},
   "outputs": [],
   "source": [
    "def stack_model(oof1,oof2,oof3,sub1,sub2,sub3,train_target):\n",
    "    #oof代表每个模型的验证集，sub代表每个模型在预测集上的结果\n",
    "    #train_stack是指按列进行拼接，代表三个模型在数据集上的验证结果\n",
    "    train_stack=np.hstack([oof1,oof2,oof3])\n",
    "    #test_stack是指按列进行拼接，代表三个模型在测试集上的结果\n",
    "    test_stack=np.hstack([sub1,sub2,sub3])\n",
    "    #创建一个和测试集的行数相同的全零数组\n",
    "    prediction=np.zeros(test_stack.shape[0])\n",
    "    #创建一个和训练集的行数相同的全零数组\n",
    "    OOF=np.zeros(train_stack.shape[0])\n",
    "    #多轮交叉验证stack\n",
    "    from sklearn.model_selection import RepeatedKFold\n",
    "    folds=RepeatedKFold(n_splits=5,n_repeats=2,random_state=2020)\n",
    "\n",
    "    for fold_,(trn_idx,val_idx) in enumerate(folds.split(train_stack,train_target)):\n",
    "        print(\"foln n{}\".format(fold_+1))\n",
    "        trn_data,trn_y=train_stack[trn_idx],train_target[trn_idx]\n",
    "        val_data,val_y=train_stack[val_idx],train_target[val_idx]\n",
    "        print(\"-\"*10+'Stacking'+str(fold_+1)+'-'*10)\n",
    "        #使用贝叶斯回归作为stack模型\n",
    "        from sklearn.linear_model import BayesianRidge\n",
    "        clf=BayesianRidge()\n",
    "        clf.fit(trn_data,trn_y)\n",
    "        #在训练集上进行训练\n",
    "        OOF[val_idx]=clf.predict(val_data)/(5*2)\n",
    "        #在验证机上做预测\n",
    "        prediction+=clf.predict(test_stack)/(5*2)\n",
    "        #对测试集数据进行训练，每一轮结果占比额外的1/10\n",
    "    #返回测试集和验证集\n",
    "    return OOF,prediction\n",
    "    "
   ]
  }
 ],
 "metadata": {
  "language_info": {
   "name": "python"
  }
 },
 "nbformat": 4,
 "nbformat_minor": 2
}
